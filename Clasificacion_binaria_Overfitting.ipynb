{
 "cells": [
  {
   "cell_type": "markdown",
   "metadata": {
    "id": "JJhPuV_xq56O"
   },
   "source": [
    "## Importamos librerías"
   ]
  },
  {
   "cell_type": "code",
   "execution_count": 1,
   "metadata": {
    "id": "K2s_iDC4q56W"
   },
   "outputs": [],
   "source": [
    "from keras.datasets import imdb\n",
    "from keras import models, layers, optimizers\n",
    "import numpy as np\n"
   ]
  },
  {
   "cell_type": "markdown",
   "metadata": {
    "id": "7vf9u0WGq56X"
   },
   "source": [
    "## Descargamos los datos de imdb - Keras"
   ]
  },
  {
   "cell_type": "code",
   "execution_count": 2,
   "metadata": {
    "id": "AA1pDKcJq56Y"
   },
   "outputs": [],
   "source": [
    "(train_data, train_labels), (test_data, test_labels) = imdb.load_data(num_words=10000)"
   ]
  },
  {
   "cell_type": "markdown",
   "metadata": {
    "id": "uYYPXrDJq56Y"
   },
   "source": [
    "## Función de one-hot encoding"
   ]
  },
  {
   "cell_type": "code",
   "execution_count": 3,
   "metadata": {
    "id": "z-IRp1jNq56Y"
   },
   "outputs": [],
   "source": [
    "def vectorizar(sequences, dim=10000):\n",
    "    restults = np.zeros((len(sequences),dim))\n",
    "    for i, sequences in enumerate(sequences):\n",
    "        restults[i,sequences]=1\n",
    "    return restults "
   ]
  },
  {
   "cell_type": "markdown",
   "metadata": {
    "id": "xYvCqkTSq56Z"
   },
   "source": [
    "## Transformamos datos"
   ]
  },
  {
   "cell_type": "code",
   "execution_count": 4,
   "metadata": {
    "id": "IRPUAON_q56Z"
   },
   "outputs": [],
   "source": [
    "x_train = vectorizar(train_data)\n",
    "x_test = vectorizar(test_data)"
   ]
  },
  {
   "cell_type": "code",
   "execution_count": 5,
   "metadata": {
    "id": "Lj2Aza2sq56Z"
   },
   "outputs": [],
   "source": [
    "y_train = np.asarray(train_labels).astype('float32')\n",
    "y_test = np.asarray(test_labels).astype('float32')"
   ]
  },
  {
   "cell_type": "markdown",
   "metadata": {
    "id": "b5YqpUiEq56a"
   },
   "source": [
    "## Red neuronal original"
   ]
  },
  {
   "cell_type": "code",
   "execution_count": 6,
   "metadata": {
    "id": "UHUU6CAKq56a"
   },
   "outputs": [],
   "source": [
    "model = models.Sequential()\n",
    "model.add(layers.Dense(16, activation='relu', input_shape=(10000,)))\n",
    "model.add(layers.Dense(16, activation='relu'))\n",
    "model.add(layers.Dense(1, activation='sigmoid'))\n"
   ]
  },
  {
   "cell_type": "code",
   "execution_count": 7,
   "metadata": {
    "id": "aRRJq921q56a"
   },
   "outputs": [],
   "source": [
    "model.compile(optimizer='rmsprop',\n",
    "              loss='binary_crossentropy',\n",
    "             metrics=['acc'])"
   ]
  },
  {
   "cell_type": "code",
   "execution_count": 8,
   "metadata": {
    "id": "dHOxgALNq56b"
   },
   "outputs": [],
   "source": [
    "x_val = x_train[:10000]\n",
    "partial_x_train = x_train[10000:]\n",
    "\n",
    "y_val = y_train[:10000]\n",
    "partial_y_train =  y_train[10000:]"
   ]
  },
  {
   "cell_type": "markdown",
   "metadata": {
    "id": "qqHUAcB8q56b"
   },
   "source": [
    "## Entrenando"
   ]
  },
  {
   "cell_type": "code",
   "execution_count": 9,
   "metadata": {
    "id": "bojOz_jWq56b",
    "outputId": "ceaf3f52-cad8-4fe1-84ae-a79b3045d60d",
    "scrolled": true
   },
   "outputs": [
    {
     "name": "stdout",
     "output_type": "stream",
     "text": [
      "Epoch 1/20\n",
      "30/30 [==============================] - 2s 27ms/step - loss: 0.5513 - acc: 0.7641 - val_loss: 0.4155 - val_acc: 0.8652\n",
      "Epoch 2/20\n",
      "30/30 [==============================] - 0s 12ms/step - loss: 0.3343 - acc: 0.8963 - val_loss: 0.3234 - val_acc: 0.8831\n",
      "Epoch 3/20\n",
      "30/30 [==============================] - 0s 12ms/step - loss: 0.2390 - acc: 0.9243 - val_loss: 0.2819 - val_acc: 0.8908\n",
      "Epoch 4/20\n",
      "30/30 [==============================] - 0s 12ms/step - loss: 0.1849 - acc: 0.9403 - val_loss: 0.2820 - val_acc: 0.8865\n",
      "Epoch 5/20\n",
      "30/30 [==============================] - 0s 13ms/step - loss: 0.1516 - acc: 0.9515 - val_loss: 0.2815 - val_acc: 0.8895\n",
      "Epoch 6/20\n",
      "30/30 [==============================] - 0s 13ms/step - loss: 0.1249 - acc: 0.9610 - val_loss: 0.3007 - val_acc: 0.8830\n",
      "Epoch 7/20\n",
      "30/30 [==============================] - 0s 13ms/step - loss: 0.1043 - acc: 0.9681 - val_loss: 0.3063 - val_acc: 0.8855\n",
      "Epoch 8/20\n",
      "30/30 [==============================] - 0s 13ms/step - loss: 0.0872 - acc: 0.9757 - val_loss: 0.3303 - val_acc: 0.8788\n",
      "Epoch 9/20\n",
      "30/30 [==============================] - 0s 12ms/step - loss: 0.0704 - acc: 0.9809 - val_loss: 0.3562 - val_acc: 0.8790\n",
      "Epoch 10/20\n",
      "30/30 [==============================] - 0s 12ms/step - loss: 0.0611 - acc: 0.9841 - val_loss: 0.3607 - val_acc: 0.8801\n",
      "Epoch 11/20\n",
      "30/30 [==============================] - 0s 12ms/step - loss: 0.0466 - acc: 0.9892 - val_loss: 0.3958 - val_acc: 0.8773\n",
      "Epoch 12/20\n",
      "30/30 [==============================] - 0s 12ms/step - loss: 0.0382 - acc: 0.9917 - val_loss: 0.4226 - val_acc: 0.8777\n",
      "Epoch 13/20\n",
      "30/30 [==============================] - 0s 12ms/step - loss: 0.0323 - acc: 0.9925 - val_loss: 0.4511 - val_acc: 0.8754\n",
      "Epoch 14/20\n",
      "30/30 [==============================] - 0s 12ms/step - loss: 0.0254 - acc: 0.9951 - val_loss: 0.4917 - val_acc: 0.8715\n",
      "Epoch 15/20\n",
      "30/30 [==============================] - 0s 12ms/step - loss: 0.0183 - acc: 0.9972 - val_loss: 0.5541 - val_acc: 0.8627\n",
      "Epoch 16/20\n",
      "30/30 [==============================] - 0s 12ms/step - loss: 0.0142 - acc: 0.9987 - val_loss: 0.5498 - val_acc: 0.8715\n",
      "Epoch 17/20\n",
      "30/30 [==============================] - 0s 12ms/step - loss: 0.0135 - acc: 0.9982 - val_loss: 0.5782 - val_acc: 0.8707\n",
      "Epoch 18/20\n",
      "30/30 [==============================] - 0s 12ms/step - loss: 0.0098 - acc: 0.9989 - val_loss: 0.6095 - val_acc: 0.8697\n",
      "Epoch 19/20\n",
      "30/30 [==============================] - 0s 12ms/step - loss: 0.0058 - acc: 0.9997 - val_loss: 0.7471 - val_acc: 0.8545\n",
      "Epoch 20/20\n",
      "30/30 [==============================] - 0s 12ms/step - loss: 0.0077 - acc: 0.9989 - val_loss: 0.6795 - val_acc: 0.8666\n"
     ]
    }
   ],
   "source": [
    "history = model.fit(partial_x_train,\n",
    "                   partial_y_train,\n",
    "                   epochs=20,\n",
    "                   batch_size=512,\n",
    "                   validation_data=(x_val,y_val))"
   ]
  },
  {
   "cell_type": "markdown",
   "metadata": {
    "id": "l3Woc_cOq56d"
   },
   "source": [
    "### Comparando un modelo más pequeño"
   ]
  },
  {
   "cell_type": "code",
   "execution_count": 10,
   "metadata": {
    "id": "BvETn2HKq56d"
   },
   "outputs": [],
   "source": [
    "model2 = models.Sequential()\n",
    "model2.add(layers.Dense(4, activation='relu', input_shape=(10000,)))\n",
    "model2.add(layers.Dense(4, activation='relu'))\n",
    "model2.add(layers.Dense(1, activation='sigmoid'))"
   ]
  },
  {
   "cell_type": "code",
   "execution_count": 11,
   "metadata": {
    "id": "gOSbistFq56d"
   },
   "outputs": [],
   "source": [
    "model2.compile(optimizer='rmsprop',\n",
    "              loss='binary_crossentropy',\n",
    "             metrics=['acc'])"
   ]
  },
  {
   "cell_type": "code",
   "execution_count": 12,
   "metadata": {
    "id": "Bjz4emsfq56e",
    "outputId": "912d60b8-f30b-4e66-a4d9-c099a63f1b24",
    "scrolled": true
   },
   "outputs": [
    {
     "name": "stdout",
     "output_type": "stream",
     "text": [
      "Epoch 1/20\n",
      "30/30 [==============================] - 2s 29ms/step - loss: 0.6335 - acc: 0.6506 - val_loss: 0.5855 - val_acc: 0.7323\n",
      "Epoch 2/20\n",
      "30/30 [==============================] - 0s 14ms/step - loss: 0.5521 - acc: 0.7749 - val_loss: 0.5399 - val_acc: 0.8273\n",
      "Epoch 3/20\n",
      "30/30 [==============================] - 0s 13ms/step - loss: 0.5037 - acc: 0.8366 - val_loss: 0.5077 - val_acc: 0.8332\n",
      "Epoch 4/20\n",
      "30/30 [==============================] - 0s 13ms/step - loss: 0.4678 - acc: 0.8732 - val_loss: 0.4868 - val_acc: 0.8572\n",
      "Epoch 5/20\n",
      "30/30 [==============================] - 0s 14ms/step - loss: 0.4396 - acc: 0.8949 - val_loss: 0.4737 - val_acc: 0.8523\n",
      "Epoch 6/20\n",
      "30/30 [==============================] - 0s 14ms/step - loss: 0.4164 - acc: 0.9119 - val_loss: 0.4628 - val_acc: 0.8630\n",
      "Epoch 7/20\n",
      "30/30 [==============================] - 0s 14ms/step - loss: 0.3961 - acc: 0.9269 - val_loss: 0.4535 - val_acc: 0.8758\n",
      "Epoch 8/20\n",
      "30/30 [==============================] - 0s 14ms/step - loss: 0.3782 - acc: 0.9371 - val_loss: 0.4497 - val_acc: 0.8752\n",
      "Epoch 9/20\n",
      "30/30 [==============================] - 0s 14ms/step - loss: 0.3618 - acc: 0.9475 - val_loss: 0.4692 - val_acc: 0.8517\n",
      "Epoch 10/20\n",
      "30/30 [==============================] - 0s 15ms/step - loss: 0.3466 - acc: 0.9549 - val_loss: 0.4546 - val_acc: 0.8678\n",
      "Epoch 11/20\n",
      "30/30 [==============================] - 0s 14ms/step - loss: 0.3329 - acc: 0.9615 - val_loss: 0.4700 - val_acc: 0.8591\n",
      "Epoch 12/20\n",
      "30/30 [==============================] - 0s 13ms/step - loss: 0.3201 - acc: 0.9677 - val_loss: 0.4634 - val_acc: 0.8669\n",
      "Epoch 13/20\n",
      "30/30 [==============================] - 0s 13ms/step - loss: 0.3082 - acc: 0.9724 - val_loss: 0.4904 - val_acc: 0.8570\n",
      "Epoch 14/20\n",
      "30/30 [==============================] - 0s 13ms/step - loss: 0.2972 - acc: 0.9761 - val_loss: 0.4836 - val_acc: 0.8623\n",
      "Epoch 15/20\n",
      "30/30 [==============================] - 0s 14ms/step - loss: 0.2865 - acc: 0.9786 - val_loss: 0.4827 - val_acc: 0.8662\n",
      "Epoch 16/20\n",
      "30/30 [==============================] - 0s 14ms/step - loss: 0.2769 - acc: 0.9827 - val_loss: 0.5188 - val_acc: 0.8590\n",
      "Epoch 17/20\n",
      "30/30 [==============================] - 0s 15ms/step - loss: 0.2680 - acc: 0.9835 - val_loss: 0.5098 - val_acc: 0.8633\n",
      "Epoch 18/20\n",
      "30/30 [==============================] - 0s 16ms/step - loss: 0.2595 - acc: 0.9852 - val_loss: 0.5234 - val_acc: 0.8637\n",
      "Epoch 19/20\n",
      "30/30 [==============================] - 0s 16ms/step - loss: 0.2511 - acc: 0.9867 - val_loss: 0.5363 - val_acc: 0.8629\n",
      "Epoch 20/20\n",
      "30/30 [==============================] - 0s 15ms/step - loss: 0.2438 - acc: 0.9875 - val_loss: 0.6360 - val_acc: 0.8499\n"
     ]
    }
   ],
   "source": [
    "history2 = model2.fit(partial_x_train,\n",
    "                   partial_y_train,\n",
    "                   epochs=20,\n",
    "                   batch_size=512,\n",
    "                   validation_data=(x_val,y_val))"
   ]
  },
  {
   "cell_type": "markdown",
   "metadata": {
    "id": "uxvaByNXq56e"
   },
   "source": [
    "## Analizamos resultados"
   ]
  },
  {
   "cell_type": "code",
   "execution_count": null,
   "metadata": {
    "id": "QLa8AuM8q56e",
    "outputId": "3846b129-6bb6-4eb5-96d3-6bd080e6f62f"
   },
   "outputs": [],
   "source": [
    "import matplotlib.pyplot as plt \n",
    "\n",
    "history_dict = history.history\n",
    "loss_values = history_dict['loss']\n",
    "val_loss_values = history_dict['val_loss']\n",
    "\n",
    "val_loss_values2 = history2.history['val_loss']\n",
    "\n",
    "\n",
    "fig = plt.figure(figsize=(10,10))\n",
    "epoch = range(1,len(loss_values)+1)\n",
    "plt.plot(epoch,val_loss_values2, 'o',label='smaller')\n",
    "plt.plot(epoch,val_loss_values, '--',label='original')\n",
    "plt.legend()\n",
    "plt.show()"
   ]
  },
  {
   "cell_type": "markdown",
   "metadata": {
    "id": "ZADmub67q56f"
   },
   "source": [
    "## Regularización"
   ]
  },
  {
   "cell_type": "code",
   "execution_count": 14,
   "metadata": {
    "id": "SQ_FwhyJq56f"
   },
   "outputs": [],
   "source": [
    "from keras import regularizers"
   ]
  },
  {
   "cell_type": "code",
   "execution_count": 15,
   "metadata": {
    "id": "WYodFlpOq56f"
   },
   "outputs": [],
   "source": [
    "model3 = models.Sequential()\n",
    "model3.add(layers.Dense(16, activation='relu', input_shape=(10000,),kernel_regularizer=regularizers.l2(0.001)))\n",
    "model3.add(layers.Dense(16, activation='relu',kernel_regularizer=regularizers.l2(0.001)))\n",
    "model3.add(layers.Dense(1, activation='sigmoid'))"
   ]
  },
  {
   "cell_type": "code",
   "execution_count": 16,
   "metadata": {
    "id": "TECkokyjq56g"
   },
   "outputs": [],
   "source": [
    "model3.compile(optimizer='rmsprop',\n",
    "              loss='binary_crossentropy',\n",
    "             metrics=['acc'])"
   ]
  },
  {
   "cell_type": "code",
   "execution_count": 17,
   "metadata": {
    "id": "S1zdguanq56g",
    "outputId": "6224b6ea-d278-4a82-fbb2-d3b2ce062b9a",
    "scrolled": true
   },
   "outputs": [
    {
     "name": "stdout",
     "output_type": "stream",
     "text": [
      "Epoch 1/20\n",
      "30/30 [==============================] - 2s 25ms/step - loss: 0.5485 - acc: 0.8009 - val_loss: 0.4287 - val_acc: 0.8718\n",
      "Epoch 2/20\n",
      "30/30 [==============================] - 0s 14ms/step - loss: 0.3596 - acc: 0.9015 - val_loss: 0.3595 - val_acc: 0.8837\n",
      "Epoch 3/20\n",
      "30/30 [==============================] - 0s 13ms/step - loss: 0.2948 - acc: 0.9181 - val_loss: 0.3510 - val_acc: 0.8804\n",
      "Epoch 4/20\n",
      "30/30 [==============================] - 0s 13ms/step - loss: 0.2596 - acc: 0.9327 - val_loss: 0.3308 - val_acc: 0.8880\n",
      "Epoch 5/20\n",
      "30/30 [==============================] - 0s 13ms/step - loss: 0.2357 - acc: 0.9426 - val_loss: 0.3659 - val_acc: 0.8748\n",
      "Epoch 6/20\n",
      "30/30 [==============================] - 0s 13ms/step - loss: 0.2223 - acc: 0.9464 - val_loss: 0.3397 - val_acc: 0.8848\n",
      "Epoch 7/20\n",
      "30/30 [==============================] - 0s 14ms/step - loss: 0.2116 - acc: 0.9491 - val_loss: 0.3440 - val_acc: 0.8840\n",
      "Epoch 8/20\n",
      "30/30 [==============================] - 0s 13ms/step - loss: 0.1998 - acc: 0.9533 - val_loss: 0.4176 - val_acc: 0.8632\n",
      "Epoch 9/20\n",
      "30/30 [==============================] - 0s 13ms/step - loss: 0.1933 - acc: 0.9557 - val_loss: 0.4102 - val_acc: 0.8625\n",
      "Epoch 10/20\n",
      "30/30 [==============================] - 0s 13ms/step - loss: 0.1887 - acc: 0.9574 - val_loss: 0.3659 - val_acc: 0.8807\n",
      "Epoch 11/20\n",
      "30/30 [==============================] - 0s 13ms/step - loss: 0.1754 - acc: 0.9635 - val_loss: 0.3866 - val_acc: 0.8776\n",
      "Epoch 12/20\n",
      "30/30 [==============================] - 0s 13ms/step - loss: 0.1788 - acc: 0.9611 - val_loss: 0.3870 - val_acc: 0.8766\n",
      "Epoch 13/20\n",
      "30/30 [==============================] - 0s 13ms/step - loss: 0.1739 - acc: 0.9651 - val_loss: 0.3953 - val_acc: 0.8772\n",
      "Epoch 14/20\n",
      "30/30 [==============================] - 0s 13ms/step - loss: 0.1621 - acc: 0.9693 - val_loss: 0.4010 - val_acc: 0.8769\n",
      "Epoch 15/20\n",
      "30/30 [==============================] - 0s 13ms/step - loss: 0.1712 - acc: 0.9657 - val_loss: 0.4089 - val_acc: 0.8759\n",
      "Epoch 16/20\n",
      "30/30 [==============================] - 0s 13ms/step - loss: 0.1553 - acc: 0.9719 - val_loss: 0.4167 - val_acc: 0.8753\n",
      "Epoch 17/20\n",
      "30/30 [==============================] - 0s 14ms/step - loss: 0.1614 - acc: 0.9664 - val_loss: 0.4684 - val_acc: 0.8649\n",
      "Epoch 18/20\n",
      "30/30 [==============================] - 0s 13ms/step - loss: 0.1558 - acc: 0.9715 - val_loss: 0.4282 - val_acc: 0.8744\n",
      "Epoch 19/20\n",
      "30/30 [==============================] - 0s 13ms/step - loss: 0.1548 - acc: 0.9710 - val_loss: 0.4298 - val_acc: 0.8729\n",
      "Epoch 20/20\n",
      "30/30 [==============================] - 0s 13ms/step - loss: 0.1467 - acc: 0.9743 - val_loss: 0.4364 - val_acc: 0.8706\n"
     ]
    }
   ],
   "source": [
    "history3 = model3.fit(partial_x_train,\n",
    "                   partial_y_train,\n",
    "                   epochs=20,\n",
    "                   batch_size=512,\n",
    "                   validation_data=(x_val,y_val))"
   ]
  },
  {
   "cell_type": "code",
   "execution_count": 18,
   "metadata": {
    "id": "b9ai0fsNq56g",
    "outputId": "1c64017b-a816-4cfa-bba9-bb8f09fd0ef9"
   },
   "outputs": [
    {
     "data": {
      "image/png": "[encoded data removed]",
      "text/plain": [
       "<Figure size 1008x720 with 1 Axes>"
      ]
     },
     "metadata": {
      "needs_background": "light"
     },
     "output_type": "display_data"
    }
   ],
   "source": [
    "import matplotlib.pyplot as plt \n",
    "\n",
    "history_dict = history.history\n",
    "loss_values = history_dict['loss']\n",
    "val_loss_values = history_dict['val_loss']\n",
    "\n",
    "val_loss_values3 = history3.history['val_loss']\n",
    "\n",
    "\n",
    "fig = plt.figure(figsize=(14,10))\n",
    "epoch = range(1,len(loss_values)+1)\n",
    "plt.plot(epoch,val_loss_values3, 'o',label='regularization')\n",
    "plt.plot(epoch,val_loss_values, '--',label='original')\n",
    "plt.legend()\n",
    "plt.show()"
   ]
  },
  {
   "cell_type": "markdown",
   "metadata": {
    "id": "6FXLdBozq56h"
   },
   "source": [
    "### Dropout"
   ]
  },
  {
   "cell_type": "code",
   "execution_count": 19,
   "metadata": {
    "id": "fwdm5v0yq56h"
   },
   "outputs": [],
   "source": [
    "model4 = models.Sequential()\n",
    "model4.add(layers.Dense(16, activation='relu', input_shape=(10000,)))\n",
    "model4.add(layers.Dropout(0.5))\n",
    "model4.add(layers.Dense(16, activation='relu'))\n",
    "model4.add(layers.Dropout(0.5))\n",
    "model4.add(layers.Dense(1, activation='sigmoid'))"
   ]
  },
  {
   "cell_type": "code",
   "execution_count": 20,
   "metadata": {
    "id": "WKxmCmDIq56h"
   },
   "outputs": [],
   "source": [
    "model4.compile(optimizer='rmsprop',\n",
    "              loss='binary_crossentropy',\n",
    "             metrics=['acc'])"
   ]
  },
  {
   "cell_type": "code",
   "execution_count": 21,
   "metadata": {
    "id": "pqHkccE_q56h",
    "outputId": "01800777-7b9d-4910-e25a-9ff99262f749",
    "scrolled": true
   },
   "outputs": [
    {
     "name": "stdout",
     "output_type": "stream",
     "text": [
      "Epoch 1/20\n",
      "30/30 [==============================] - 2s 22ms/step - loss: 0.6319 - acc: 0.6475 - val_loss: 0.5234 - val_acc: 0.8477\n",
      "Epoch 2/20\n",
      "30/30 [==============================] - 0s 12ms/step - loss: 0.5133 - acc: 0.7767 - val_loss: 0.4199 - val_acc: 0.8691\n",
      "Epoch 3/20\n",
      "30/30 [==============================] - 0s 12ms/step - loss: 0.4328 - acc: 0.8219 - val_loss: 0.3861 - val_acc: 0.8547\n",
      "Epoch 4/20\n",
      "30/30 [==============================] - 0s 13ms/step - loss: 0.3720 - acc: 0.8605 - val_loss: 0.3135 - val_acc: 0.8830\n",
      "Epoch 5/20\n",
      "30/30 [==============================] - 0s 13ms/step - loss: 0.3221 - acc: 0.8802 - val_loss: 0.3025 - val_acc: 0.8775\n",
      "Epoch 6/20\n",
      "30/30 [==============================] - 0s 13ms/step - loss: 0.2862 - acc: 0.9010 - val_loss: 0.2808 - val_acc: 0.8903\n",
      "Epoch 7/20\n",
      "30/30 [==============================] - 0s 13ms/step - loss: 0.2531 - acc: 0.9123 - val_loss: 0.2938 - val_acc: 0.8894\n",
      "Epoch 8/20\n",
      "30/30 [==============================] - 0s 13ms/step - loss: 0.2289 - acc: 0.9222 - val_loss: 0.2865 - val_acc: 0.8892\n",
      "Epoch 9/20\n",
      "30/30 [==============================] - 0s 13ms/step - loss: 0.2036 - acc: 0.9319 - val_loss: 0.2977 - val_acc: 0.8847\n",
      "Epoch 10/20\n",
      "30/30 [==============================] - 0s 13ms/step - loss: 0.1888 - acc: 0.9396 - val_loss: 0.3261 - val_acc: 0.8904\n",
      "Epoch 11/20\n",
      "30/30 [==============================] - 0s 13ms/step - loss: 0.1669 - acc: 0.9469 - val_loss: 0.3315 - val_acc: 0.8887\n",
      "Epoch 12/20\n",
      "30/30 [==============================] - 0s 13ms/step - loss: 0.1503 - acc: 0.9529 - val_loss: 0.3487 - val_acc: 0.8878\n",
      "Epoch 13/20\n",
      "30/30 [==============================] - 0s 13ms/step - loss: 0.1408 - acc: 0.9557 - val_loss: 0.3960 - val_acc: 0.8862\n",
      "Epoch 14/20\n",
      "30/30 [==============================] - 0s 13ms/step - loss: 0.1287 - acc: 0.9599 - val_loss: 0.3899 - val_acc: 0.8861\n",
      "Epoch 15/20\n",
      "30/30 [==============================] - 0s 14ms/step - loss: 0.1187 - acc: 0.9635 - val_loss: 0.4047 - val_acc: 0.8869\n",
      "Epoch 16/20\n",
      "30/30 [==============================] - 0s 14ms/step - loss: 0.1090 - acc: 0.9655 - val_loss: 0.4361 - val_acc: 0.8861\n",
      "Epoch 17/20\n",
      "30/30 [==============================] - 0s 13ms/step - loss: 0.1047 - acc: 0.9669 - val_loss: 0.4597 - val_acc: 0.8867\n",
      "Epoch 18/20\n",
      "30/30 [==============================] - 0s 13ms/step - loss: 0.1023 - acc: 0.9678 - val_loss: 0.5023 - val_acc: 0.8863\n",
      "Epoch 19/20\n",
      "30/30 [==============================] - 0s 13ms/step - loss: 0.0870 - acc: 0.9705 - val_loss: 0.5126 - val_acc: 0.8852\n",
      "Epoch 20/20\n",
      "30/30 [==============================] - 0s 13ms/step - loss: 0.0919 - acc: 0.9693 - val_loss: 0.5354 - val_acc: 0.8866\n"
     ]
    }
   ],
   "source": [
    "history4 = model4.fit(partial_x_train,\n",
    "                   partial_y_train,\n",
    "                   epochs=20,\n",
    "                   batch_size=512,\n",
    "                   validation_data=(x_val,y_val))"
   ]
  },
  {
   "cell_type": "code",
   "execution_count": 22,
   "metadata": {
    "id": "51ZQvsAcq56i",
    "outputId": "1ead276e-90bc-4aaf-94a9-b9a5ae9845af"
   },
   "outputs": [
    {
     "data": {
      "image/png": "[encoded data removed]",
      "text/plain": [
       "<Figure size 1008x720 with 1 Axes>"
      ]
     },
     "metadata": {
      "needs_background": "light"
     },
     "output_type": "display_data"
    }
   ],
   "source": [
    "history_dict = history.history\n",
    "loss_values = history_dict['loss']\n",
    "val_loss_values = history_dict['val_loss']\n",
    "\n",
    "val_loss_values4 = history4.history['val_loss']\n",
    "\n",
    "\n",
    "fig = plt.figure(figsize=(14,10))\n",
    "epoch = range(1,len(loss_values)+1)\n",
    "plt.plot(epoch,val_loss_values4, 'o',label='dropout')\n",
    "plt.plot(epoch,val_loss_values, '--',label='original')\n",
    "plt.legend()\n",
    "plt.show()"
   ]
  }
 ],
 "metadata": {
  "colab": {
   "name": "Clasificacion binaria - Overfitting.ipynb",
   "provenance": []
  },
  "kernelspec": {
   "display_name": "Python 3",
   "language": "python",
   "name": "python3"
  },
  "language_info": {
   "codemirror_mode": {
    "name": "ipython",
    "version": 3
   },
   "file_extension": ".py",
   "mimetype": "text/x-python",
   "name": "python",
   "nbconvert_exporter": "python",
   "pygments_lexer": "ipython3",
   "version": "3.9.6"
  }
 },
 "nbformat": 4,
 "nbformat_minor": 4
}

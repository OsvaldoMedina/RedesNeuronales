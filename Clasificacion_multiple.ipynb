{
 "cells": [
  {
   "cell_type": "markdown",
   "metadata": {
    "id": "5dzlKaKtvNUG"
   },
   "source": [
    "## Importando librerías"
   ]
  },
  {
   "cell_type": "code",
   "execution_count": 1,
   "metadata": {
    "id": "gySTtwvxvNUN"
   },
   "outputs": [],
   "source": [
    "from keras.datasets import reuters\n",
    "from keras import layers, models\n",
    "import numpy as np"
   ]
  },
  {
   "cell_type": "markdown",
   "metadata": {
    "id": "gK2kCbx1vNUO"
   },
   "source": [
    "## Descarguemos datos"
   ]
  },
  {
   "cell_type": "code",
   "execution_count": 2,
   "metadata": {
    "id": "eS1nChnXvNUP"
   },
   "outputs": [
    {
     "name": "stdout",
     "output_type": "stream",
     "text": [
      "Downloading data from https://storage.googleapis.com/tensorflow/tf-keras-datasets/reuters.npz\n",
      "2113536/2110848 [==============================] - 1s 0us/step\n",
      "2121728/2110848 [==============================] - 1s 0us/step\n"
     ]
    }
   ],
   "source": [
    "(train_data, train_labels), (test_data, test_labels) = reuters.load_data(num_words=10000)"
   ]
  },
  {
   "cell_type": "markdown",
   "metadata": {
    "id": "yt6iIWGcvNUP"
   },
   "source": [
    "### Diccionario de palabras"
   ]
  },
  {
   "cell_type": "code",
   "execution_count": 3,
   "metadata": {
    "id": "eFKR6NPbvNUP"
   },
   "outputs": [
    {
     "name": "stdout",
     "output_type": "stream",
     "text": [
      "Downloading data from https://storage.googleapis.com/tensorflow/tf-keras-datasets/reuters_word_index.json\n",
      "557056/550378 [==============================] - 0s 0us/step\n",
      "565248/550378 [==============================] - 0s 0us/step\n"
     ]
    }
   ],
   "source": [
    "word_index = reuters.get_word_index()\n",
    "word_index = dict([(value,key) for (key,value) in word_index.items()])"
   ]
  },
  {
   "cell_type": "code",
   "execution_count": 4,
   "metadata": {
    "id": "S2M21Aw5vNUQ",
    "outputId": "6913200d-48e1-4cab-fae2-51060369d6d4"
   },
   "outputs": [
    {
     "name": "stdout",
     "output_type": "stream",
     "text": [
      "None\n",
      "None\n",
      "None\n",
      "said\n",
      "as\n",
      "a\n",
      "result\n",
      "of\n",
      "its\n",
      "december\n",
      "acquisition\n",
      "of\n",
      "space\n",
      "co\n",
      "it\n",
      "expects\n",
      "earnings\n",
      "per\n",
      "share\n",
      "in\n",
      "1987\n",
      "of\n",
      "1\n",
      "15\n",
      "to\n",
      "1\n",
      "30\n",
      "dlrs\n",
      "per\n",
      "share\n",
      "up\n",
      "from\n",
      "70\n",
      "cts\n",
      "in\n",
      "1986\n",
      "the\n",
      "company\n",
      "said\n",
      "pretax\n",
      "net\n",
      "should\n",
      "rise\n",
      "to\n",
      "nine\n",
      "to\n",
      "10\n",
      "mln\n",
      "dlrs\n",
      "from\n",
      "six\n",
      "mln\n",
      "dlrs\n",
      "in\n",
      "1986\n",
      "and\n",
      "rental\n",
      "operation\n",
      "revenues\n",
      "to\n",
      "19\n",
      "to\n",
      "22\n",
      "mln\n",
      "dlrs\n",
      "from\n",
      "12\n",
      "5\n",
      "mln\n",
      "dlrs\n",
      "it\n",
      "said\n",
      "cash\n",
      "flow\n",
      "per\n",
      "share\n",
      "this\n",
      "year\n",
      "should\n",
      "be\n",
      "2\n",
      "50\n",
      "to\n",
      "three\n",
      "dlrs\n",
      "reuter\n",
      "3\n"
     ]
    }
   ],
   "source": [
    "for _ in train_data[0]:\n",
    "    print(word_index.get( _ - 3))"
   ]
  },
  {
   "cell_type": "markdown",
   "metadata": {
    "id": "JfPM85lPvNUR"
   },
   "source": [
    "### Función de vectorizar "
   ]
  },
  {
   "cell_type": "code",
   "execution_count": 5,
   "metadata": {
    "id": "G80OGI-LvNUR"
   },
   "outputs": [],
   "source": [
    "def vectorizar(sequences, dim=10000):\n",
    "    restults = np.zeros((len(sequences),dim))\n",
    "    for i, sequences in enumerate(sequences):\n",
    "        restults[i,sequences]=1\n",
    "    return restults     "
   ]
  },
  {
   "cell_type": "markdown",
   "metadata": {
    "id": "t7_cTCDmvNUR"
   },
   "source": [
    "## Transformando los datos"
   ]
  },
  {
   "cell_type": "code",
   "execution_count": 6,
   "metadata": {
    "id": "qtqZF-bzvNUS"
   },
   "outputs": [],
   "source": [
    "x_train = vectorizar(train_data)\n",
    "x_test = vectorizar(test_data)"
   ]
  },
  {
   "cell_type": "code",
   "execution_count": 7,
   "metadata": {
    "id": "wo-3rSAuvNUT"
   },
   "outputs": [],
   "source": [
    "from keras.utils.np_utils import to_categorical"
   ]
  },
  {
   "cell_type": "code",
   "execution_count": 8,
   "metadata": {
    "id": "OhqEXJubvNUU"
   },
   "outputs": [],
   "source": [
    "y_train = to_categorical(train_labels)\n",
    "y_test = to_categorical(test_labels)\n"
   ]
  },
  {
   "cell_type": "code",
   "execution_count": 9,
   "metadata": {
    "id": "xRhJErIGvNUU",
    "outputId": "8c437eb4-6486-4c49-867d-32b33519dd80"
   },
   "outputs": [
    {
     "data": {
      "text/plain": [
       "3"
      ]
     },
     "execution_count": 9,
     "metadata": {},
     "output_type": "execute_result"
    }
   ],
   "source": [
    "train_labels[0]"
   ]
  },
  {
   "cell_type": "code",
   "execution_count": 10,
   "metadata": {
    "id": "7XSB_eswvNUV",
    "outputId": "bbc286d8-6d69-42e0-df74-721cd26a86c8"
   },
   "outputs": [
    {
     "data": {
      "text/plain": [
       "array([0., 0., 0., 1., 0., 0., 0., 0., 0., 0., 0., 0., 0., 0., 0., 0., 0.,\n",
       "       0., 0., 0., 0., 0., 0., 0., 0., 0., 0., 0., 0., 0., 0., 0., 0., 0.,\n",
       "       0., 0., 0., 0., 0., 0., 0., 0., 0., 0., 0., 0.], dtype=float32)"
      ]
     },
     "execution_count": 10,
     "metadata": {},
     "output_type": "execute_result"
    }
   ],
   "source": [
    "y_train[0]"
   ]
  },
  {
   "cell_type": "markdown",
   "metadata": {
    "id": "7KqfIi99vNUV"
   },
   "source": [
    "### Creando la red"
   ]
  },
  {
   "cell_type": "code",
   "execution_count": 11,
   "metadata": {
    "id": "aB8KyKDDvNUV"
   },
   "outputs": [],
   "source": [
    "model = models.Sequential()\n",
    "model.add(layers.Dense(64, activation='relu', input_shape=(10000,)))\n",
    "model.add(layers.Dense(64, activation='relu'))\n",
    "model.add(layers.Dense(46, activation='softmax'))"
   ]
  },
  {
   "cell_type": "code",
   "execution_count": 12,
   "metadata": {
    "id": "xHRbJeufvNUW"
   },
   "outputs": [],
   "source": [
    "model.compile(optimizer='rmsprop',\n",
    "              loss='categorical_crossentropy',\n",
    "              metrics=['acc']   \n",
    "             )"
   ]
  },
  {
   "cell_type": "code",
   "execution_count": 13,
   "metadata": {
    "id": "du5C-sFGvNUW"
   },
   "outputs": [],
   "source": [
    "x_val = x_train[:1000]\n",
    "partial_x_train = x_train[1000:]\n",
    "\n",
    "y_val = y_train[:1000]\n",
    "partial_y_train =  y_train[1000:]"
   ]
  },
  {
   "cell_type": "markdown",
   "metadata": {
    "id": "3JEChhaPvNUX"
   },
   "source": [
    "### Entrenando el modelo"
   ]
  },
  {
   "cell_type": "code",
   "execution_count": null,
   "metadata": {
    "id": "DNw1_Md_vNUX",
    "outputId": "7789b46b-da34-48df-c9db-0acea6f0b2f4"
   },
   "outputs": [],
   "source": [
    "history = model.fit(partial_x_train,\n",
    "                   partial_y_train,\n",
    "                   epochs=9,\n",
    "                   batch_size=512,\n",
    "                   validation_data=(x_val,y_val))"
   ]
  },
  {
   "cell_type": "markdown",
   "metadata": {
    "id": "3i2nqbm1vNUX"
   },
   "source": [
    "### Validamos resultados"
   ]
  },
  {
   "cell_type": "code",
   "execution_count": 15,
   "metadata": {
    "id": "YkFGeMxovNUX",
    "outputId": "73eaf9b3-2460-43d5-d526-8af708bd9224"
   },
   "outputs": [
    {
     "data": {
      "image/png": "[encoded data removed]",
      "text/plain": [
       "<Figure size 720x720 with 1 Axes>"
      ]
     },
     "metadata": {
      "needs_background": "light"
     },
     "output_type": "display_data"
    }
   ],
   "source": [
    "import matplotlib.pyplot as plt \n",
    "\n",
    "history_dict = history.history\n",
    "loss_values = history_dict['loss']\n",
    "val_loss_values = history_dict['val_loss']\n",
    "\n",
    "fig = plt.figure(figsize=(10,10))\n",
    "epoch = range(1,len(loss_values)+1)\n",
    "plt.plot(epoch,loss_values, 'o',label='training')\n",
    "plt.plot(epoch,val_loss_values, '--',label='val')\n",
    "plt.legend()\n",
    "plt.show()"
   ]
  },
  {
   "cell_type": "code",
   "execution_count": 16,
   "metadata": {
    "id": "Mm5-NBX5vNUY",
    "outputId": "ffd43ad9-a6fa-4569-a8fe-3303796683d0"
   },
   "outputs": [
    {
     "name": "stdout",
     "output_type": "stream",
     "text": [
      "71/71 [==============================] - 0s 2ms/step - loss: 0.9845 - acc: 0.7850\n"
     ]
    },
    {
     "data": {
      "text/plain": [
       "[0.9845306873321533, 0.7849510312080383]"
      ]
     },
     "execution_count": 16,
     "metadata": {},
     "output_type": "execute_result"
    }
   ],
   "source": [
    "model.evaluate(x_test, y_test)"
   ]
  },
  {
   "cell_type": "code",
   "execution_count": 17,
   "metadata": {
    "id": "EBQV7GT2vNUY"
   },
   "outputs": [],
   "source": [
    "predictions = model.predict(x_test)"
   ]
  },
  {
   "cell_type": "code",
   "execution_count": 18,
   "metadata": {
    "id": "6r1YZAbDvNUY",
    "outputId": "ea9f4b92-efce-4c4c-b1ff-ed71ad58de8b"
   },
   "outputs": [
    {
     "data": {
      "text/plain": [
       "array([1.9813481e-06, 3.7911206e-05, 8.7203516e-06, 9.4226611e-01,\n",
       "       5.0209995e-02, 4.4422541e-06, 6.2221770e-06, 5.2469415e-05,\n",
       "       1.9146510e-03, 2.4690842e-06, 1.0808764e-05, 4.7901001e-05,\n",
       "       1.9552435e-04, 1.4854266e-04, 9.4111065e-06, 3.1149971e-06,\n",
       "       3.2089776e-04, 6.7712936e-05, 4.4303993e-06, 2.5866504e-04,\n",
       "       3.2328430e-03, 7.1412112e-05, 1.0979130e-04, 4.7587419e-05,\n",
       "       5.4807351e-06, 6.6492728e-05, 4.3134714e-06, 8.8636807e-05,\n",
       "       5.2937980e-06, 1.3084220e-05, 1.4226719e-04, 1.5506794e-05,\n",
       "       2.3998160e-05, 2.5383767e-06, 4.4891840e-05, 2.1277651e-06,\n",
       "       4.9673064e-05, 5.9243698e-06, 5.7998504e-06, 4.2182641e-04,\n",
       "       2.0336570e-06, 5.1892363e-05, 9.0592775e-06, 3.7570919e-06,\n",
       "       9.2086600e-07, 8.7914401e-07], dtype=float32)"
      ]
     },
     "execution_count": 18,
     "metadata": {},
     "output_type": "execute_result"
    }
   ],
   "source": [
    "predictions[0]"
   ]
  },
  {
   "cell_type": "code",
   "execution_count": 19,
   "metadata": {
    "id": "uwzyYoLQvNUZ",
    "outputId": "0687de08-a95f-414a-c3de-1f53a081f3a3"
   },
   "outputs": [
    {
     "data": {
      "text/plain": [
       "1.0000001"
      ]
     },
     "execution_count": 19,
     "metadata": {},
     "output_type": "execute_result"
    }
   ],
   "source": [
    "np.sum(predictions[0])"
   ]
  },
  {
   "cell_type": "code",
   "execution_count": 20,
   "metadata": {
    "id": "aOq313kevNUZ",
    "outputId": "5f9123a6-9466-4889-bfa5-7359da2ee9b9"
   },
   "outputs": [
    {
     "data": {
      "text/plain": [
       "2"
      ]
     },
     "execution_count": 20,
     "metadata": {},
     "output_type": "execute_result"
    }
   ],
   "source": [
    "np.argmax([2,5,65,3,6,7])"
   ]
  },
  {
   "cell_type": "code",
   "execution_count": 21,
   "metadata": {
    "id": "iWZXdP4xvNUZ",
    "outputId": "48e26056-e17c-4660-f1e5-bd866236065e"
   },
   "outputs": [
    {
     "data": {
      "text/plain": [
       "3"
      ]
     },
     "execution_count": 21,
     "metadata": {},
     "output_type": "execute_result"
    }
   ],
   "source": [
    "np.argmax(predictions[0])"
   ]
  }
 ],
 "metadata": {
  "colab": {
   "name": "Clasificacion multiple.ipynb",
   "provenance": []
  },
  "kernelspec": {
   "display_name": "Python 3",
   "language": "python",
   "name": "python3"
  },
  "language_info": {
   "codemirror_mode": {
    "name": "ipython",
    "version": 3
   },
   "file_extension": ".py",
   "mimetype": "text/x-python",
   "name": "python",
   "nbconvert_exporter": "python",
   "pygments_lexer": "ipython3",
   "version": "3.9.6"
  }
 },
 "nbformat": 4,
 "nbformat_minor": 4
}

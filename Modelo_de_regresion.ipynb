{
 "cells": [
  {
   "cell_type": "markdown",
   "metadata": {
    "id": "dAW9c4NmwB0e"
   },
   "source": [
    "# Regression"
   ]
  },
  {
   "cell_type": "markdown",
   "metadata": {
    "id": "J46eZxCQwB0n"
   },
   "source": [
    "### Importando librerías"
   ]
  },
  {
   "cell_type": "code",
   "execution_count": 1,
   "metadata": {
    "id": "R7lPFS0-wB0o"
   },
   "outputs": [],
   "source": [
    "import pandas as pd\n",
    "import numpy as np\n",
    "from keras.datasets import boston_housing \n",
    "from keras import models, layers, optimizers"
   ]
  },
  {
   "cell_type": "markdown",
   "metadata": {
    "id": "PYfXtOqHwB0o"
   },
   "source": [
    "### Descargando datos"
   ]
  },
  {
   "cell_type": "code",
   "execution_count": 2,
   "metadata": {
    "id": "TMbfTzVywB0p"
   },
   "outputs": [],
   "source": [
    "(train_data , train_targets) ,(test_data,test_targets) = boston_housing.load_data()"
   ]
  },
  {
   "cell_type": "code",
   "execution_count": 3,
   "metadata": {
    "id": "VHlcO1HPwB0p",
    "outputId": "1c0db4dd-07df-4965-c155-dd57270fb173"
   },
   "outputs": [
    {
     "data": {
      "text/plain": [
       "array([2.1770e-02, 8.2500e+01, 2.0300e+00, 0.0000e+00, 4.1500e-01,\n",
       "       7.6100e+00, 1.5700e+01, 6.2700e+00, 2.0000e+00, 3.4800e+02,\n",
       "       1.4700e+01, 3.9538e+02, 3.1100e+00])"
      ]
     },
     "execution_count": 3,
     "metadata": {},
     "output_type": "execute_result"
    }
   ],
   "source": [
    "train_data[1]"
   ]
  },
  {
   "cell_type": "code",
   "execution_count": 4,
   "metadata": {
    "id": "fHBPBETUwB0q",
    "outputId": "91705fb2-5087-4c45-e6fb-771f75ba6eaf"
   },
   "outputs": [
    {
     "data": {
      "text/plain": [
       "42.3"
      ]
     },
     "execution_count": 4,
     "metadata": {},
     "output_type": "execute_result"
    }
   ],
   "source": [
    "train_targets[1]"
   ]
  },
  {
   "cell_type": "markdown",
   "metadata": {
    "id": "8Ddu6QfXwB0r"
   },
   "source": [
    "## Normalización"
   ]
  },
  {
   "cell_type": "code",
   "execution_count": 5,
   "metadata": {
    "id": "8UOpZwMswB0r"
   },
   "outputs": [],
   "source": [
    "mean = train_data.mean(axis=0)\n",
    "train_data = train_data  - mean\n",
    "std = train_data.std(axis=0)\n",
    "train_data = train_data / std\n",
    "\n",
    "test_data = test_data - mean\n",
    "test_data = test_data / std"
   ]
  },
  {
   "cell_type": "markdown",
   "metadata": {
    "id": "UFq_e17uwB0r"
   },
   "source": [
    "### Definiendo nuestra red"
   ]
  },
  {
   "cell_type": "code",
   "execution_count": 6,
   "metadata": {
    "id": "fYSmHGvQwB0s"
   },
   "outputs": [],
   "source": [
    "def build_model_regression(input_data):\n",
    "    model = models.Sequential()\n",
    "    model.add(layers.Dense(64,activation='relu',input_shape=(input_data,)))\n",
    "    model.add(layers.Dense(64,activation='relu'))\n",
    "    model.add(layers.Dense(1))\n",
    "    model.compile(optimizer='rmsprop', loss='mse',metrics=['mae'])\n",
    "    return model"
   ]
  },
  {
   "cell_type": "markdown",
   "metadata": {
    "id": "EJyWav47wB0s"
   },
   "source": [
    "## K - fold validation"
   ]
  },
  {
   "cell_type": "code",
   "execution_count": 7,
   "metadata": {
    "id": "a5wqzcUFwB0s"
   },
   "outputs": [],
   "source": [
    "k = 4\n",
    "num_val_samples = len(train_data) // 4\n",
    "num_epoch = 80\n",
    "all_history = []"
   ]
  },
  {
   "cell_type": "code",
   "execution_count": 8,
   "metadata": {
    "id": "0Vk8r-RJwB0t",
    "outputId": "ff764d7a-9add-4b2f-e070-7e74717d1d1b"
   },
   "outputs": [
    {
     "data": {
      "text/plain": [
       "0"
      ]
     },
     "execution_count": 8,
     "metadata": {},
     "output_type": "execute_result"
    }
   ],
   "source": [
    "0*num_val_samples"
   ]
  },
  {
   "cell_type": "code",
   "execution_count": 9,
   "metadata": {
    "id": "OMGHWn50wB0t",
    "outputId": "a01017ce-8ba5-454f-df13-8d7a83b3782a"
   },
   "outputs": [
    {
     "data": {
      "text/plain": [
       "101"
      ]
     },
     "execution_count": 9,
     "metadata": {},
     "output_type": "execute_result"
    }
   ],
   "source": [
    "(0+1) * num_val_samples"
   ]
  },
  {
   "cell_type": "code",
   "execution_count": 10,
   "metadata": {
    "id": "rcaxSMf_wB0t",
    "outputId": "f0d3353f-8ad2-4687-d2e0-3a760c3436d1"
   },
   "outputs": [
    {
     "name": "stdout",
     "output_type": "stream",
     "text": [
      "Fold  0\n",
      "Fold  1\n",
      "Fold  2\n",
      "Fold  3\n"
     ]
    }
   ],
   "source": [
    "for i in range(k):\n",
    "    print(\"Fold \" , i)\n",
    "    val_data = train_data[i*num_val_samples: (i+1) * num_val_samples]\n",
    "    val_targets = train_targets[i*num_val_samples: (i+1) * num_val_samples]\n",
    "    \n",
    "    partial_train_data = np.concatenate(\n",
    "    [train_data[:i * num_val_samples],\n",
    "     train_data[(i+1) * num_val_samples:]],\n",
    "     axis= 0   \n",
    "    )\n",
    "    \n",
    "    partial_train_targets = np.concatenate(\n",
    "    [train_targets[:i * num_val_samples],\n",
    "     train_targets[(i+1) * num_val_samples:]],\n",
    "     axis= 0   \n",
    "    )    \n",
    "    model = build_model_regression(13)\n",
    "    history = model.fit(partial_train_data, partial_train_targets, epochs=num_epoch, batch_size =16, \n",
    "                        validation_data = (val_data, val_targets),\n",
    "                        verbose=0)\n",
    "    all_history.append(history.history['val_mae'])\n",
    "    "
   ]
  },
  {
   "cell_type": "markdown",
   "metadata": {
    "id": "xMf3QO9cwB0u"
   },
   "source": [
    "### Media de todos los MAE"
   ]
  },
  {
   "cell_type": "code",
   "execution_count": 11,
   "metadata": {
    "id": "3rZOgis4wB0u",
    "outputId": "6cae210d-7f12-43f8-a8a9-824ff7f244ec"
   },
   "outputs": [
    {
     "data": {
      "text/plain": [
       "80"
      ]
     },
     "execution_count": 11,
     "metadata": {},
     "output_type": "execute_result"
    }
   ],
   "source": [
    "len(all_history[0])"
   ]
  },
  {
   "cell_type": "code",
   "execution_count": 12,
   "metadata": {
    "id": "RIS84-iBwB0u"
   },
   "outputs": [],
   "source": [
    "all_mae_avg = pd.DataFrame(all_history).mean(axis=0)"
   ]
  },
  {
   "cell_type": "markdown",
   "metadata": {
    "id": "PesLtTb_wB0u",
    "tags": []
   },
   "source": [
    "### Visualizando resultados"
   ]
  },
  {
   "cell_type": "code",
   "execution_count": 13,
   "metadata": {},
   "outputs": [],
   "source": [
    "import matplotlib.pyplot as plt"
   ]
  },
  {
   "cell_type": "code",
   "execution_count": 14,
   "metadata": {},
   "outputs": [
    {
     "data": {
      "image/png": "[encoded data removed]",
      "text/plain": [
       "<Figure size 720x720 with 1 Axes>"
      ]
     },
     "metadata": {
      "needs_background": "light"
     },
     "output_type": "display_data"
    }
   ],
   "source": [
    "fig = plt.figure(figsize=(10,10))\n",
    "plt.plot(range(1,len(all_mae_avg[15:])+1), all_mae_avg[15:])\n",
    "plt.show()"
   ]
  },
  {
   "cell_type": "code",
   "execution_count": null,
   "metadata": {
    "id": "I88RbpCVwB0v",
    "outputId": "9426fbb1-ec80-4c75-9624-f0aa078c2328"
   },
   "outputs": [],
   "source": [
    "import matplotlib.pyplot as plt\n",
    "\n",
    "fig = plt.figure(figsize=(10,10))\n",
    "plt.plot(range(1,len(all_mae_avg[15:])+1), all_mae_avg[15:])\n",
    "plt.show()"
   ]
  },
  {
   "cell_type": "markdown",
   "metadata": {
    "id": "fKsCleIdwB0v",
    "tags": []
   },
   "source": [
    "### Evaluando el modelo"
   ]
  },
  {
   "cell_type": "code",
   "execution_count": 16,
   "metadata": {
    "id": "FQ2deRunwB0v",
    "outputId": "8e9efefe-cc92-48c0-cdfe-95ad2ecd4907"
   },
   "outputs": [
    {
     "name": "stdout",
     "output_type": "stream",
     "text": [
      "4/4 [==============================] - 0s 2ms/step - loss: 19.6009 - mae: 2.7920\n"
     ]
    },
    {
     "data": {
      "text/plain": [
       "[19.600929260253906, 2.7919914722442627]"
      ]
     },
     "execution_count": 16,
     "metadata": {},
     "output_type": "execute_result"
    }
   ],
   "source": [
    "model.evaluate(test_data, test_targets)"
   ]
  },
  {
   "cell_type": "code",
   "execution_count": null,
   "metadata": {},
   "outputs": [],
   "source": []
  }
 ],
 "metadata": {
  "colab": {
   "collapsed_sections": [],
   "name": "Modelo de regresion.ipynb",
   "provenance": []
  },
  "kernelspec": {
   "display_name": "Python 3",
   "language": "python",
   "name": "python3"
  },
  "language_info": {
   "codemirror_mode": {
    "name": "ipython",
    "version": 3
   },
   "file_extension": ".py",
   "mimetype": "text/x-python",
   "name": "python",
   "nbconvert_exporter": "python",
   "pygments_lexer": "ipython3",
   "version": "3.9.6"
  }
 },
 "nbformat": 4,
 "nbformat_minor": 4
}
